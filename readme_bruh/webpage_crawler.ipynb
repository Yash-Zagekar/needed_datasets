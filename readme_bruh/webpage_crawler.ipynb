{
 "cells": [
  {
   "cell_type": "markdown",
   "id": "dc2cb57b-e742-42da-a63d-54881d259014",
   "metadata": {},
   "source": [
    "# Importing Libraries\n",
    "+ BeautifulSoap : Powerfull Python library used for web scarpping from HTML and XML\n",
    "+ requests : Python library use to send and receive request from server"
   ]
  },
  {
   "cell_type": "code",
   "execution_count": 31,
   "id": "1e942215-5202-41be-abf3-4c61e8a0b247",
   "metadata": {},
   "outputs": [],
   "source": [
    "from bs4 import BeautifulSoup \n",
    "import requests"
   ]
  },
  {
   "cell_type": "code",
   "execution_count": 32,
   "id": "f67f1eb5-c6f7-4583-af68-149658c2c0fc",
   "metadata": {},
   "outputs": [],
   "source": [
    "base_url = 'http://books.toscrape.com/catalogue/category/books_1/page-{}.html'\n",
    "all_books = []"
   ]
  },
  {
   "cell_type": "markdown",
   "id": "ef84c39e-0762-455d-a6fc-9c275b1b3bfd",
   "metadata": {},
   "source": [
    "# Define function - Web crawler "
   ]
  },
  {
   "cell_type": "code",
   "execution_count": 33,
   "id": "c8078e44-2ea6-4897-b956-fc741942d608",
   "metadata": {},
   "outputs": [],
   "source": [
    "def web_crawler_site(url) : \n",
    "    # Setting up header\n",
    "    # header contains HTTP header which stimulates a requestcoming from web browser, it is use to prevent a site being blocked\n",
    "    headers = {\n",
    "       \"user-agent\" : \"Mozilla/5.0 (Windows NT 10.0; Win64; x64) AppleWebKit/537.36 (KHTML, like Gecko) Chrome/130.0.0.0 Safari/537.36\"\n",
    "         }\n",
    "    # Sending HTTP Request \n",
    "    # This line sends an HTTP GET request to the specified url using the requests library, including the custom headers defined earlier. \n",
    "    # The response from the server is stored in the variable response. \n",
    "    response = requests.get(url,headers = headers)\n",
    "\n",
    "    # Checking response status_code \n",
    "    # if status_code != 200 retrun empty array = failed \n",
    "    if response.status_code != 200 : \n",
    "        print(f\"Failed to retrive information | Status code :  {response.status_code}\")\n",
    "        return []\n",
    "\n",
    "    # Parsing HTML Content\n",
    "    # Define parsing - \n",
    "    # In web scraping, parsing means taking the raw HTML code of a webpage and breaking it into different parts (like paragraphs, titles, or links) \n",
    "    # so we can extract specific information.\n",
    "\n",
    "    # Initialization of beautiful soap and setting praser to html.praser (default)\n",
    "    soup = BeautifulSoup(response.text,'html.parser')\n",
    "\n",
    "    # Finding book element : \n",
    "    # Finding book_listing using beatifulSoap's find_all \n",
    "    books = soup.find_all('article', class_= 'product_pod')\n",
    "\n",
    "\n",
    "    # Extacting Book information \n",
    "    # Empty array to store extratced information \n",
    "    book_info = []\n",
    "\n",
    "    # Traversing through books \n",
    "    for book in books : \n",
    "        # Extracting book title from <a><h3> title </h3></a>\n",
    "        title = book.h3.a['title']\n",
    "        # similar way extract links\n",
    "        links = book.h3.a['href']\n",
    "        # Extracting price from <p> in class price_color in text format\n",
    "        price = book.find('p', class_= 'price_color').text\n",
    "        author = 'Anonymous'\n",
    "        \n",
    "        # Appending all extracted data into book_info \n",
    "        book_info.append({\n",
    "            'title' : title,\n",
    "            'links' : links,\n",
    "            'price' : price,\n",
    "            'author': author, \n",
    "        })\n",
    "    # finally returing extracted data. \n",
    "    return book_info    "
   ]
  },
  {
   "cell_type": "markdown",
   "id": "f457c535-65f8-45e2-9647-e34db81a83d8",
   "metadata": {},
   "source": [
    "# Adjust pages "
   ]
  },
  {
   "cell_type": "code",
   "execution_count": 34,
   "id": "8566854a-78fc-4caa-b601-5f1588715326",
   "metadata": {},
   "outputs": [],
   "source": [
    "import time\n",
    "# looping through pages\n",
    "for i in range(1, 6): \n",
    "    # The format(i) method replaces {} in the base_url with the current value of i.\n",
    "    # Example : i = 1, base_url becomes : 'http://books.toscrape.com/catalogue/category/books_1/page-1.html'\n",
    "    # Example : i = 2, base_url becomes : 'http://books.toscrape.com/catalogue/category/books_1/page-2.html'\n",
    "    url = base_url.format(i)\n",
    "    # Called function\n",
    "    books = web_crawler_site(url)\n",
    "    # Aggregating the result\n",
    "    all_books.extend(books)\n",
    "    # Pausing Between Requests: The time.sleep(1) function call pauses the execution of the loop for 1 second before proceeding to the next iteration. \n",
    "    # 1. To prevent rate limit \n",
    "    # 2. To respect server load \n",
    "    time.sleep(1)  "
   ]
  },
  {
   "cell_type": "markdown",
   "id": "00767288-8a92-4bc4-bc51-863e2453e148",
   "metadata": {},
   "source": [
    "# Converting into CSV format "
   ]
  },
  {
   "cell_type": "code",
   "execution_count": 35,
   "id": "c291d83d-e2c5-4fcb-9d6e-b5b92f8292a5",
   "metadata": {},
   "outputs": [
    {
     "name": "stdout",
     "output_type": "stream",
     "text": [
      "Scarping completed successfully 🫠, data is saved in books.csv\n"
     ]
    }
   ],
   "source": [
    "import csv\n",
    "with open('books.csv','w',newline='',encoding='utf-8') as csvfile : \n",
    "    # Defining feature of csv file\n",
    "    fieldnames = ['title','price','author','links']\n",
    "\n",
    "    \n",
    "    # Creating csv writer \n",
    "    # This initialize the Dictwriter obj of csv, which write dictionary to csv files \n",
    "    writer = csv.DictWriter(csvfile, fieldnames=fieldnames)\n",
    "\n",
    "    \n",
    "    # writing header Row \n",
    "    # Ensure 1st row of csv file contain all columns items. \n",
    "    writer.writeheader()\n",
    "\n",
    "    # Traversing through all_books \n",
    "    for book in all_books : \n",
    "        # The writer.writerow(book) method writes each dictionary as a row in the CSV file.\n",
    "        writer.writerow(book)\n",
    "print(\"Scarping completed successfully 🫠, data is saved in books.csv\")"
   ]
  },
  {
   "cell_type": "markdown",
   "id": "a11c74f0-8214-41c7-8948-2e7852fd5c58",
   "metadata": {},
   "source": [
    "# Displaying csv file"
   ]
  },
  {
   "cell_type": "code",
   "execution_count": 36,
   "id": "3dad3a39-6467-4e77-8f35-71b264587ca3",
   "metadata": {},
   "outputs": [
    {
     "data": {
      "text/html": [
       "<div>\n",
       "<style scoped>\n",
       "    .dataframe tbody tr th:only-of-type {\n",
       "        vertical-align: middle;\n",
       "    }\n",
       "\n",
       "    .dataframe tbody tr th {\n",
       "        vertical-align: top;\n",
       "    }\n",
       "\n",
       "    .dataframe thead th {\n",
       "        text-align: right;\n",
       "    }\n",
       "</style>\n",
       "<table border=\"1\" class=\"dataframe\">\n",
       "  <thead>\n",
       "    <tr style=\"text-align: right;\">\n",
       "      <th></th>\n",
       "      <th>title</th>\n",
       "      <th>price</th>\n",
       "      <th>author</th>\n",
       "      <th>links</th>\n",
       "    </tr>\n",
       "  </thead>\n",
       "  <tbody>\n",
       "    <tr>\n",
       "      <th>0</th>\n",
       "      <td>A Light in the Attic</td>\n",
       "      <td>Â£51.77</td>\n",
       "      <td>Anonymous</td>\n",
       "      <td>../../a-light-in-the-attic_1000/index.html</td>\n",
       "    </tr>\n",
       "    <tr>\n",
       "      <th>1</th>\n",
       "      <td>Tipping the Velvet</td>\n",
       "      <td>Â£53.74</td>\n",
       "      <td>Anonymous</td>\n",
       "      <td>../../tipping-the-velvet_999/index.html</td>\n",
       "    </tr>\n",
       "    <tr>\n",
       "      <th>2</th>\n",
       "      <td>Soumission</td>\n",
       "      <td>Â£50.10</td>\n",
       "      <td>Anonymous</td>\n",
       "      <td>../../soumission_998/index.html</td>\n",
       "    </tr>\n",
       "    <tr>\n",
       "      <th>3</th>\n",
       "      <td>Sharp Objects</td>\n",
       "      <td>Â£47.82</td>\n",
       "      <td>Anonymous</td>\n",
       "      <td>../../sharp-objects_997/index.html</td>\n",
       "    </tr>\n",
       "    <tr>\n",
       "      <th>4</th>\n",
       "      <td>Sapiens: A Brief History of Humankind</td>\n",
       "      <td>Â£54.23</td>\n",
       "      <td>Anonymous</td>\n",
       "      <td>../../sapiens-a-brief-history-of-humankind_996...</td>\n",
       "    </tr>\n",
       "    <tr>\n",
       "      <th>5</th>\n",
       "      <td>The Requiem Red</td>\n",
       "      <td>Â£22.65</td>\n",
       "      <td>Anonymous</td>\n",
       "      <td>../../the-requiem-red_995/index.html</td>\n",
       "    </tr>\n",
       "    <tr>\n",
       "      <th>6</th>\n",
       "      <td>The Dirty Little Secrets of Getting Your Dream...</td>\n",
       "      <td>Â£33.34</td>\n",
       "      <td>Anonymous</td>\n",
       "      <td>../../the-dirty-little-secrets-of-getting-your...</td>\n",
       "    </tr>\n",
       "    <tr>\n",
       "      <th>7</th>\n",
       "      <td>The Coming Woman: A Novel Based on the Life of...</td>\n",
       "      <td>Â£17.93</td>\n",
       "      <td>Anonymous</td>\n",
       "      <td>../../the-coming-woman-a-novel-based-on-the-li...</td>\n",
       "    </tr>\n",
       "    <tr>\n",
       "      <th>8</th>\n",
       "      <td>The Boys in the Boat: Nine Americans and Their...</td>\n",
       "      <td>Â£22.60</td>\n",
       "      <td>Anonymous</td>\n",
       "      <td>../../the-boys-in-the-boat-nine-americans-and-...</td>\n",
       "    </tr>\n",
       "    <tr>\n",
       "      <th>9</th>\n",
       "      <td>The Black Maria</td>\n",
       "      <td>Â£52.15</td>\n",
       "      <td>Anonymous</td>\n",
       "      <td>../../the-black-maria_991/index.html</td>\n",
       "    </tr>\n",
       "  </tbody>\n",
       "</table>\n",
       "</div>"
      ],
      "text/plain": [
       "                                               title    price     author  \\\n",
       "0                               A Light in the Attic  Â£51.77  Anonymous   \n",
       "1                                 Tipping the Velvet  Â£53.74  Anonymous   \n",
       "2                                         Soumission  Â£50.10  Anonymous   \n",
       "3                                      Sharp Objects  Â£47.82  Anonymous   \n",
       "4              Sapiens: A Brief History of Humankind  Â£54.23  Anonymous   \n",
       "5                                    The Requiem Red  Â£22.65  Anonymous   \n",
       "6  The Dirty Little Secrets of Getting Your Dream...  Â£33.34  Anonymous   \n",
       "7  The Coming Woman: A Novel Based on the Life of...  Â£17.93  Anonymous   \n",
       "8  The Boys in the Boat: Nine Americans and Their...  Â£22.60  Anonymous   \n",
       "9                                    The Black Maria  Â£52.15  Anonymous   \n",
       "\n",
       "                                               links  \n",
       "0         ../../a-light-in-the-attic_1000/index.html  \n",
       "1            ../../tipping-the-velvet_999/index.html  \n",
       "2                    ../../soumission_998/index.html  \n",
       "3                 ../../sharp-objects_997/index.html  \n",
       "4  ../../sapiens-a-brief-history-of-humankind_996...  \n",
       "5               ../../the-requiem-red_995/index.html  \n",
       "6  ../../the-dirty-little-secrets-of-getting-your...  \n",
       "7  ../../the-coming-woman-a-novel-based-on-the-li...  \n",
       "8  ../../the-boys-in-the-boat-nine-americans-and-...  \n",
       "9               ../../the-black-maria_991/index.html  "
      ]
     },
     "execution_count": 36,
     "metadata": {},
     "output_type": "execute_result"
    }
   ],
   "source": [
    "import pandas as pd\n",
    "\n",
    "df = pd.read_csv('books.csv')\n",
    "df.head(10)"
   ]
  },
  {
   "cell_type": "code",
   "execution_count": null,
   "id": "9dc473a3-0181-43d4-9cc4-df727ff65b81",
   "metadata": {},
   "outputs": [],
   "source": []
  }
 ],
 "metadata": {
  "kernelspec": {
   "display_name": "Python 3 (ipykernel)",
   "language": "python",
   "name": "python3"
  },
  "language_info": {
   "codemirror_mode": {
    "name": "ipython",
    "version": 3
   },
   "file_extension": ".py",
   "mimetype": "text/x-python",
   "name": "python",
   "nbconvert_exporter": "python",
   "pygments_lexer": "ipython3",
   "version": "3.12.6"
  }
 },
 "nbformat": 4,
 "nbformat_minor": 5
}
